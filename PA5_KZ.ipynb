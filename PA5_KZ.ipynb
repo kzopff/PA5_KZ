{
 "cells": [
  {
   "cell_type": "markdown",
   "metadata": {},
   "source": [
    "# Programming Assignment 5\n",
    "---\n",
    "**Author:** Katie Zopff  \n",
    "**Version:** 1.0  \n",
    "**Semester:** Fall 2020  \n",
    "\n",
    "This *notebook* contains my solution to **Programming Assignment 5**\n",
    "\n",
    "- Problem 1: Defined a dictionary 'spanishdict' with 20 English words and their spanish counterparts. Prompted the user for an English word to translate into Spanish. Using a 'while' loop with a nested 'if' function, the program will print the Spanish counterpart of the English word if it is part of the dictionary, print that it is not in the dictionary if it isn't, and stops the program if the entered value is 0. \n",
    "- Problem 2: Defined a dictionary 'classes' with 6 classes and their attributes and description. Then, defined the function print_player_data() to accept a player class, prints the description, and makes a table with the other attributes using PrettyTable. The user is prompted for a player class. using a 'while' loop with a nested 'if' fucntion, the program will print the output for the function print_player_data() if the player class is in the dictionary, print that it is not in the dictionary if it is not, and stops the program if the entered value is 0. "
   ]
  },
  {
   "cell_type": "markdown",
   "metadata": {},
   "source": [
    "**A) Language Translator**"
   ]
  },
  {
   "cell_type": "code",
   "execution_count": 11,
   "metadata": {},
   "outputs": [
    {
     "name": "stdout",
     "output_type": "stream",
     "text": [
      "Enter a word to translate from English to Spanish (enter 0 to stop): man\n",
      "The Spanish word for man is HOMBRE.\n",
      " \n",
      "Enter a word to translate from English to Spanish (enter 0 to stop): cat\n",
      "The Spanish word for cat is GATO.\n",
      " \n",
      "Enter a word to translate from English to Spanish (enter 0 to stop): chair\n",
      "The Spanish word for CHAIR is not in this dictionary.\n",
      " \n",
      "Enter a word to translate from English to Spanish (enter 0 to stop): hand\n",
      "The Spanish word for hand is MANO.\n",
      " \n",
      "Enter a word to translate from English to Spanish (enter 0 to stop): 0\n"
     ]
    }
   ],
   "source": [
    "spanishdict = {'man':'hombre', 'dog':'perro', 'water':'agua', 'mother':'madre', 'father':'padre', 'woman':'mujer', 'cat':'gato', 'clock':'reloj', 'chicken':'pollo', 'paper':'papel', 'pencil':'lapiz', 'milk':'leche', 'money':'dinero', 'school':'escuela', 'hand':'mano', 'hair':'pelo', 'shoe':'zapato', 'door':'puerta', 'computer':'computadora', 'book':'libro'}\n",
    "x = input(\"Enter a word to translate from English to Spanish (enter 0 to stop): \")\n",
    "while x != \"0\" :\n",
    "    if x in spanishdict:\n",
    "        print(\"The Spanish word for\", x, \"is\", str.upper(spanishdict[x]) + '.')\n",
    "        print(\" \")\n",
    "        x = input(\"Enter a word to translate from English to Spanish (enter 0 to stop): \")\n",
    "    else:\n",
    "        print(\"The Spanish word for\", str.upper(x), \"is not in this dictionary.\")\n",
    "        print(\" \")\n",
    "        x = input(\"Enter a word to translate from English to Spanish (enter 0 to stop): \")"
   ]
  },
  {
   "cell_type": "markdown",
   "metadata": {},
   "source": [
    "**B) D&D Character Dictionary**"
   ]
  },
  {
   "cell_type": "code",
   "execution_count": 1,
   "metadata": {},
   "outputs": [],
   "source": [
    "from prettytable import PrettyTable"
   ]
  },
  {
   "cell_type": "code",
   "execution_count": 12,
   "metadata": {},
   "outputs": [],
   "source": [
    "classes = {\"Bard\":[(\"Hit Die\",\"d8\"), (\"Primary Ability\", \"Charisma\"), (\"Saves\", \"Dexterity & Charisma\"), \"An inspiring magician whose power echoes the music of creation.\"], 'Cleric':[('Hit Die', 'd8'), ('Primary Ability', 'Wisdom'), ('Saves', 'Wisdom & Charisma'), 'A priestly champion who wields divine magic in service of a higher power.'], 'Druid':[('Hit Die', 'd8'), ('Primary Ability', 'Wisdom'), ('Saves', 'Intelligence & Wisdom'), 'A priest of the Old Faith, wielding the powers of nature and adopting animal forms.'], 'Fighter':[('Hit Die', 'd10'), ('Primary Ability', 'Strength or Dexterity'), ('Saves', 'Strength & Constitution'), 'A master of martial combat, skilled with a variety of weapons and armor.'], 'Monk':[('Hit Die', 'd8'), ('Primary Ability', 'Dexterity & Wisdom'), ('Saves', 'Strength & Dexterity'), 'A master of martial arts, harnessing the power of the body in pursuit of physical and spiritual perfection.'], 'Paladin':[('Hit Die', 'd10'), ('Primary Ability', 'Strength & Charisma'), ('Saves', 'Wisdom & Charisma'), 'A holy warrior bound to a sacred oath.']}\n",
    "def print_player_data(player):\n",
    "    print(\" \")\n",
    "    print(\"Description: \", classes[player][3])\n",
    "    x = PrettyTable()\n",
    "    x.field_names = [classes[player][0][0], classes[player][1][0], classes[player][2][0]]\n",
    "    x.add_row([classes[player][0][1], classes[player][1][1], classes[player][2][1]])\n",
    "    print(x)\n",
    "    return"
   ]
  },
  {
   "cell_type": "code",
   "execution_count": 13,
   "metadata": {},
   "outputs": [
    {
     "name": "stdout",
     "output_type": "stream",
     "text": [
      "Enter the class of the player you would like to look up. Enter zero (0) to quit. Monk\n",
      " \n",
      "Description:  A master of martial arts, harnessing the power of the body in pursuit of physical and spiritual perfection.\n",
      "+---------+--------------------+----------------------+\n",
      "| Hit Die |  Primary Ability   |        Saves         |\n",
      "+---------+--------------------+----------------------+\n",
      "|    d8   | Dexterity & Wisdom | Strength & Dexterity |\n",
      "+---------+--------------------+----------------------+\n",
      " \n",
      "Enter the class of the player you would like to look up. Enter zero (0) to quit. Cleric\n",
      " \n",
      "Description:  A priestly champion who wields divine magic in service of a higher power.\n",
      "+---------+-----------------+-------------------+\n",
      "| Hit Die | Primary Ability |       Saves       |\n",
      "+---------+-----------------+-------------------+\n",
      "|    d8   |      Wisdom     | Wisdom & Charisma |\n",
      "+---------+-----------------+-------------------+\n",
      " \n",
      "Enter the class of the player you would like to look up. Enter zero (0) to quit. Ranger\n",
      "I have no record of this player class!\n",
      " \n",
      "Enter the class of the player you would like to look up. Enter zero (0) to quit. Bard\n",
      " \n",
      "Description:  An inspiring magician whose power echoes the music of creation.\n",
      "+---------+-----------------+----------------------+\n",
      "| Hit Die | Primary Ability |        Saves         |\n",
      "+---------+-----------------+----------------------+\n",
      "|    d8   |     Charisma    | Dexterity & Charisma |\n",
      "+---------+-----------------+----------------------+\n",
      " \n",
      "Enter the class of the player you would like to look up. Enter zero (0) to quit. 0\n"
     ]
    }
   ],
   "source": [
    "y = input(\"Enter the class of the player you would like to look up. Enter zero (0) to quit. \")\n",
    "while y != \"0\":\n",
    "    if y in classes:\n",
    "        print_player_data(y)\n",
    "        print(\" \")\n",
    "        y = input(\"Enter the class of the player you would like to look up. Enter zero (0) to quit. \")\n",
    "    else:\n",
    "        print(\"I have no record of this player class!\")\n",
    "        print(\" \")\n",
    "        y = input(\"Enter the class of the player you would like to look up. Enter zero (0) to quit. \")"
   ]
  }
 ],
 "metadata": {
  "kernelspec": {
   "display_name": "Python 3",
   "language": "python",
   "name": "python3"
  },
  "language_info": {
   "codemirror_mode": {
    "name": "ipython",
    "version": 3
   },
   "file_extension": ".py",
   "mimetype": "text/x-python",
   "name": "python",
   "nbconvert_exporter": "python",
   "pygments_lexer": "ipython3",
   "version": "3.8.3"
  }
 },
 "nbformat": 4,
 "nbformat_minor": 4
}
